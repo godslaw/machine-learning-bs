{
  "nbformat": 4,
  "nbformat_minor": 0,
  "metadata": {
    "colab": {
      "provenance": [],
      "toc_visible": true,
      "mount_file_id": "1l9OsYBnr1LPOZb9Ne7Dk6oblBiNOfIbl",
      "authorship_tag": "ABX9TyN0Pg+BCOa0youH/zq/R4Lt",
      "include_colab_link": true
    },
    "kernelspec": {
      "name": "python3",
      "display_name": "Python 3"
    },
    "language_info": {
      "name": "python"
    }
  },
  "cells": [
    {
      "cell_type": "markdown",
      "metadata": {
        "id": "view-in-github",
        "colab_type": "text"
      },
      "source": [
        "<a href=\"https://colab.research.google.com/github/godslaw/machine-learning-bs/blob/master/01_basics.ipynb\" target=\"_parent\"><img src=\"https://colab.research.google.com/assets/colab-badge.svg\" alt=\"Open In Colab\"/></a>"
      ]
    },
    {
      "cell_type": "markdown",
      "source": [
        "# Początek"
      ],
      "metadata": {
        "id": "0MCL7XqeThjg"
      }
    },
    {
      "cell_type": "code",
      "execution_count": null,
      "metadata": {
        "colab": {
          "base_uri": "https://localhost:8080/"
        },
        "id": "8U3jW_L4KO6A",
        "outputId": "4e08a7ce-dd8d-4496-b5a7-e2996e1be949"
      },
      "outputs": [
        {
          "output_type": "stream",
          "name": "stdout",
          "text": [
            "Hello\n"
          ]
        }
      ],
      "source": [
        "print(\"Hello\")"
      ]
    },
    {
      "cell_type": "markdown",
      "source": [
        "## Wpis początkowy"
      ],
      "metadata": {
        "id": "KoWyPnxbTMSR"
      }
    },
    {
      "cell_type": "code",
      "source": [
        "df_raw = pd.DataFrame()"
      ],
      "metadata": {
        "id": "TnLGdBWSTaQg"
      },
      "execution_count": null,
      "outputs": []
    }
  ]
}